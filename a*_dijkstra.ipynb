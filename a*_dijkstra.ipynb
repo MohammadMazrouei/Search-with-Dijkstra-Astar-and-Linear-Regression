{
 "cells": [
  {
   "cell_type": "markdown",
   "metadata": {},
   "source": [
    "# A* algorithm"
   ]
  },
  {
   "cell_type": "code",
   "execution_count": 113,
   "metadata": {},
   "outputs": [],
   "source": [
    "# Import necessary libraries\n",
    "import numpy as np\n",
    "import pandas as pd\n",
    "from heapq import heappush, heappop\n",
    "import time\n",
    "import math"
   ]
  },
  {
   "cell_type": "code",
   "execution_count": 114,
   "metadata": {},
   "outputs": [],
   "source": [
    "# Read data from the CSV file into a Pandas DataFrame\n",
    "df = pd.read_csv(\"~/Downloads/Flight_Data.csv\")"
   ]
  },
  {
   "cell_type": "code",
   "execution_count": 115,
   "metadata": {},
   "outputs": [],
   "source": [
    "class airport_information:\n",
    "    def __init__(self, city, country, latitude, longitude, altitude):\n",
    "        self.city = city\n",
    "        self.country = country\n",
    "        self.latitude = latitude\n",
    "        self.longitude = longitude\n",
    "        self.altitude = altitude"
   ]
  },
  {
   "cell_type": "code",
   "execution_count": 116,
   "metadata": {},
   "outputs": [
    {
     "name": "stdout",
     "output_type": "stream",
     "text": [
      "759\n"
     ]
    }
   ],
   "source": [
    "airports = set()\n",
    "airports_name_to_index = dict()\n",
    "airports_index_to_name = np.empty(4000, dtype=object)\n",
    "airports_information = np.empty(4000, dtype=airport_information)\n",
    "\n",
    "ind = 0\n",
    "for i in df.index:\n",
    "    airport = df[\"SourceAirport\"][i]\n",
    "    if airport not in airports:\n",
    "        airports.add(airport)\n",
    "        if df[\"SourceAirport_Country\"][i] == \"Dubai\":\n",
    "            print(airport)\n",
    "        airports_name_to_index[airport] = ind\n",
    "        airports_index_to_name[ind] = airport\n",
    "        inf = airport_information(df[\"SourceAirport_City\"][i], df[\"SourceAirport_Country\"][i],\n",
    "                                   df[\"SourceAirport_Latitude\"][i], df[\"SourceAirport_Longitude\"][i],\n",
    "                                   df[\"SourceAirport_Altitude\"][i])\n",
    "        airports_information[ind] = inf\n",
    "        ind += 1\n",
    "        \n",
    "    airport = df[\"DestinationAirport\"][i]\n",
    "    if airport not in airports:\n",
    "        airports.add(airport)\n",
    "        airports_name_to_index[airport] = ind\n",
    "        airports_index_to_name[ind] = airport\n",
    "        inf = airport_information(df[\"DestinationAirport_City\"][i], df[\"DestinationAirport_Country\"][i],\n",
    "                                   df[\"DestinationAirport_Latitude\"][i], df[\"DestinationAirport_Longitude\"][i],\n",
    "                                   df[\"DestinationAirport_Altitude\"][i])\n",
    "        airports_information[ind] = inf\n",
    "        ind += 1\n",
    "\n",
    "number_of_airports = len(airports)\n",
    "print(number_of_airports)"
   ]
  },
  {
   "cell_type": "code",
   "execution_count": 117,
   "metadata": {},
   "outputs": [],
   "source": [
    "def calc(distance, flytime, price):\n",
    "    result = (1 * distance) + (80 * flytime) + (1 * price)\n",
    "    return result\n",
    "    \n",
    "class flight_information:\n",
    "    def __init__(self, source_airport, destination_airport, distance, flytime, price):\n",
    "        self.source_airport = source_airport\n",
    "        self.destination_airport = destination_airport\n",
    "        self.distance = distance \n",
    "        self.flytime = flytime\n",
    "        self.price = price\n",
    "        self.cost = calc(distance, flytime, price)\n",
    "        \n",
    "class flights_list:\n",
    "    def __init__(self):\n",
    "        self.flights = []\n",
    "    def add_flight(self, flight):\n",
    "        self.flights.append(flight)\n",
    "\n",
    "class ghf:\n",
    "    def __init__(self, g, h):\n",
    "        self.g = g\n",
    "        self.h = h\n",
    "        if self.g == math.inf or self.h == math.inf:\n",
    "            self.f = math.inf\n",
    "        else:\n",
    "            self.f = g+h\n",
    "    \n",
    "    def set_g(self, g):\n",
    "        self.g = g\n",
    "        if self.g == math.inf:\n",
    "            self.f = math.inf\n",
    "        else:\n",
    "            self.f = self.g + self.h\n",
    "\n",
    "    def set_h(self, h):\n",
    "        self.h = h\n",
    "        if self.h == math.inf:\n",
    "            self.f = math.inf\n",
    "        else:\n",
    "            self.f = self.g + self.h\n"
   ]
  },
  {
   "cell_type": "code",
   "execution_count": 118,
   "metadata": {},
   "outputs": [],
   "source": [
    "flights_information = np.empty(4000, dtype=flights_list)\n",
    "for i in range(number_of_airports):\n",
    "    flights_information[i] = flights_list()\n",
    "\n",
    "for i in df.index:\n",
    "    index_source_airport = airports_name_to_index[df[\"SourceAirport\"][i]]\n",
    "    index_destination_airport = airports_name_to_index[df[\"DestinationAirport\"][i]]\n",
    "    distance = df[\"Distance\"][i]\n",
    "    flytime = df[\"FlyTime\"][i]\n",
    "    price = df[\"Price\"][i]\n",
    "    if distance < 0 or flytime < 0 or price < 0:\n",
    "        continue\n",
    "    inf = flight_information(index_source_airport, index_destination_airport, distance, flytime, price)\n",
    "    flights_information[index_source_airport].add_flight(inf)"
   ]
  },
  {
   "cell_type": "code",
   "execution_count": 119,
   "metadata": {},
   "outputs": [
    {
     "name": "stdout",
     "output_type": "stream",
     "text": [
      "1 80\n"
     ]
    }
   ],
   "source": [
    "# inp = input()\n",
    "inp = \"Imam Khomeini International Airport - Raleigh Durham International Airport\"\n",
    "source_airport, destination_airport = inp.split('-')\n",
    "source_airport = source_airport.strip()\n",
    "destination_airport = destination_airport.strip()\n",
    "index_source_airport = airports_name_to_index[source_airport]\n",
    "index_destination_airport = airports_name_to_index[destination_airport]\n",
    "\n",
    "print(index_source_airport, index_destination_airport)"
   ]
  },
  {
   "cell_type": "code",
   "execution_count": 120,
   "metadata": {},
   "outputs": [],
   "source": [
    "def heuristic(cur_airport, destination):\n",
    "    # Euclidean\n",
    "    x = math.fabs (airports_information[cur_airport].latitude - airports_information[destination].latitude)\n",
    "    y = math.fabs (airports_information[cur_airport].longitude - airports_information[destination].longitude)\n",
    "    z = math.fabs (airports_information[cur_airport].altitude - airports_information[destination].altitude)\n",
    "    \n",
    "    return ((x*x) + (y*y) + (z*z)) ** 0.5"
   ]
  },
  {
   "cell_type": "code",
   "execution_count": 121,
   "metadata": {},
   "outputs": [
    {
     "name": "stdout",
     "output_type": "stream",
     "text": [
      "3599.5686789618717 325.2702707671356\n",
      "3599.5686789618717 325.2702707671356\n",
      "3599.5686789618717 325.2702707671356\n",
      "3599.5686789618717 325.2702707671356\n",
      "3599.5686789618717 325.2702707671356\n",
      "2249.5702878968386 325.2702707671356\n",
      "2361.173836883266 325.2702707671356\n",
      "2254.306721300427 325.2702707671356\n",
      "2254.306721300427 325.2702707671356\n",
      "2254.306721300427 325.2702707671356\n",
      "2254.306721300427 325.2702707671356\n",
      "3531.695074078955 325.2702707671356\n",
      "3531.695074078955 325.2702707671356\n",
      "3016.023309018896 325.2702707671356\n",
      "3016.023309018896 325.2702707671356\n",
      "2140.486822062876 325.2702707671356\n"
     ]
    }
   ],
   "source": [
    "start_time = time.time()\n",
    "\n",
    "openList = []\n",
    "closedList = np.empty(4000, dtype=bool)\n",
    "closedList.fill(False)\n",
    "costs = np.empty(4000, dtype=ghf)\n",
    "costs.fill(ghf(math.inf, math.inf))\n",
    "path = np.empty(4000, dtype=int)\n",
    "path.fill(-1)\n",
    "cost_detail = np.empty(4000, dtype=flight_information)\n",
    "cost_inf = flight_information(-1, -1, -1, -1, -1)\n",
    "cost_detail.fill(cost_inf)\n",
    "\n",
    "# Add values of start airport to the openList and\n",
    "# set values of g, h, f and parent for start airport in this order\n",
    "costs[index_source_airport].set_g(0)\n",
    "\n",
    "for airport in range(number_of_airports):\n",
    "    costs[airport].set_h(heuristic(airport, index_destination_airport))\n",
    "\n",
    "heappush (openList, (costs[index_source_airport].f, index_source_airport))\n",
    "found_destination = False\n",
    "\n",
    "# Continue looping until the heap is not empty\n",
    "while openList:\n",
    "    # Get and remove the node with largest f\n",
    "    cost, cur_airport = heappop(openList)\n",
    "    closedList[cur_airport] = True\n",
    "\n",
    "    for flight in flights_information[cur_airport].flights:\n",
    "        if flight.destination_airport == index_destination_airport:\n",
    "            found_destination = True\n",
    "            break\n",
    "        if not closedList[flight.destination_airport]:\n",
    "            destination_g = costs[cur_airport].g + flight.cost\n",
    "            destination_h = costs[flight.destination_airport].h\n",
    "            destination_f = destination_g + destination_h\n",
    "\n",
    "            print(destination_f, costs[flight.destination_airport].f)\n",
    "            if costs[flight.destination_airport].f > destination_f:\n",
    "                print(\"mamad\")\n",
    "                costs[flight.destination_airport].set_g = destination_g\n",
    "                heappush(openList, (destination_f, flight.destination_airport))\n",
    "                path[flight.destination_airport] = cur_airport\n",
    "                cost_detail[flight.destination_airport] = flight\n",
    "\n",
    "    if found_destination:\n",
    "        break\n",
    "\n",
    "total_time = round(time.time() - start_time, 6)"
   ]
  },
  {
   "cell_type": "code",
   "execution_count": 122,
   "metadata": {},
   "outputs": [],
   "source": [
    "destination = index_destination_airport\n",
    "way = []\n",
    "total_distance = 0\n",
    "total_flytime = 0\n",
    "total_price = 0\n",
    "r = 2 #round_value\n",
    "\n",
    "while destination != -1:\n",
    "    way.append(cost_detail[destination])\n",
    "    destination = path[destination]\n",
    "way.pop()\n",
    "way = way[::-1]"
   ]
  },
  {
   "cell_type": "code",
   "execution_count": 123,
   "metadata": {},
   "outputs": [
    {
     "name": "stdout",
     "output_type": "stream",
     "text": [
      "A* Algorithm\n",
      "Execution Time: 0.001766 Seconds\n",
      ".-.-.-.-.-.-.-.-.-.-.-.-.-.-.-.-.-.-.-.-.-.-.-.-\n",
      "Way Not Found!\n"
     ]
    }
   ],
   "source": [
    "print(\"A* Algorithm\")\n",
    "print(f\"Execution Time: {round(total_time, 6)} Seconds\")\n",
    "print(\".-.-.-.-.-.-.-.-.-.-.-.-.-.-.-.-.-.-.-.-.-.-.-.-\")\n",
    "if len(way):\n",
    "    for index, flight in enumerate(way):\n",
    "        print(f\"Flight #{index+1}:\")\n",
    "        print(f\"From: {airports_information[flight.source_airport].city}-{airports_index_to_name[flight.source_airport]}, {airports_information[flight.source_airport].country}\")\n",
    "        print(f\"To: {airports_information[flight.destination_airport].city}-{airports_index_to_name[flight.destination_airport]}, {airports_information[flight.destination_airport].country}\")\n",
    "        print(f\"Duration: {round(flight.distance, r)} km\")\n",
    "        print(f\"Time: {round(flight.flytime, r)} h\")\n",
    "        print(f\"Price: {round(flight.price, r)} $\")\n",
    "        print(\"----------------------------\")\n",
    "        total_distance += flight.distance\n",
    "        total_flytime += flight.flytime\n",
    "        total_price += flight.price\n",
    "        \n",
    "    print(f\"Total Price: {round(total_price, r)} $\")\n",
    "    print(f\"Total Duration: {round(total_distance, r)} km\")\n",
    "    print(f\"Total Time: {round(total_flytime, r)} h\")\n",
    "else:\n",
    "    print(\"Way Not Found!\")"
   ]
  },
  {
   "cell_type": "code",
   "execution_count": 124,
   "metadata": {},
   "outputs": [],
   "source": [
    "f = open(\"1-UIAI4021-PR1-Q1-1.txt\", \"w\")\n",
    "f.write(\"Dijkstra Algorithm\\n\")\n",
    "f.write(f\"Execution Time: {round(total_time, 6)} Seconds\\n\")\n",
    "f.write(\".-.-.-.-.-.-.-.-.-.-.-.-.-.-.-.-.-.-.-.-.-.-.-.-\\n\")\n",
    "if len(way):\n",
    "    for index, flight in enumerate(way):\n",
    "        f.write(f\"Flight #{index+1}:\\n\")\n",
    "        f.write(f\"From: {airports_information[flight.source_airport].city}-{airports_index_to_name[flight.source_airport]}, {airports_information[flight.source_airport].country}\\n\")\n",
    "        f.write(f\"To: {airports_information[flight.destination_airport].city}-{airports_index_to_name[flight.destination_airport]}, {airports_information[flight.destination_airport].country}\\n\")\n",
    "        f.write(f\"Duration: {round(flight.distance, r)} km\\n\")\n",
    "        f.write(f\"Time: {round(flight.flytime, r)} h\\n\")\n",
    "        f.write(f\"Price: {round(flight.price, r)} $\\n\")\n",
    "        f.write(\"----------------------------\\n\")\n",
    "        \n",
    "    f.write(f\"Total Price: {round(total_price, r)} $\\n\")\n",
    "    f.write(f\"Total Duration: {round(total_distance, r)} km\\n\")\n",
    "    f.write(f\"Total Time: {round(total_flytime, r)} h\\n\")\n",
    "else:\n",
    "    f.write(\"Way Not Found!\\n\")\n",
    "f.close()"
   ]
  },
  {
   "cell_type": "markdown",
   "metadata": {},
   "source": [
    "## Dijkstra"
   ]
  },
  {
   "cell_type": "code",
   "execution_count": 125,
   "metadata": {},
   "outputs": [
    {
     "name": "stdout",
     "output_type": "stream",
     "text": [
      "17270.06657526321\n",
      "0.009885\n"
     ]
    }
   ],
   "source": [
    "start_time = time.time()\n",
    "\n",
    "costs = np.empty(4000, dtype=float)\n",
    "costs.fill(math.inf)\n",
    "path = np.empty(4000, dtype=int)\n",
    "path.fill(-1)\n",
    "cost_detail = np.empty(4000, dtype=flight_information)\n",
    "cost_inf = flight_information(-1, -1, -1, -1, -1)\n",
    "cost_detail.fill(cost_inf)\n",
    "\n",
    "open_list = []\n",
    "heappush(open_list, (0, index_source_airport))\n",
    "costs[index_source_airport] = 0\n",
    "\n",
    "while open_list:\n",
    "    cost, airport = heappop(open_list)\n",
    "    if cost != costs[airport]: \n",
    "        continue\n",
    "    for flight in flights_information[airport].flights:\n",
    "        if flight.cost + cost < costs[flight.destination_airport]:\n",
    "            costs[flight.destination_airport] = flight.cost + cost\n",
    "            heappush(open_list, (costs[flight.destination_airport], flight.destination_airport))\n",
    "            path[flight.destination_airport] = airport\n",
    "            cost_detail[flight.destination_airport] = flight\n",
    "\n",
    "total_time = round(time.time() - start_time, 6)\n",
    "print(costs[index_destination_airport])\n",
    "print(total_time)"
   ]
  },
  {
   "cell_type": "code",
   "execution_count": 126,
   "metadata": {},
   "outputs": [],
   "source": [
    "destination = index_destination_airport\n",
    "way = []\n",
    "total_distance = 0\n",
    "total_flytime = 0\n",
    "total_price = 0\n",
    "r = 2 #round_value\n",
    "\n",
    "while destination != -1:\n",
    "    way.append(cost_detail[destination])\n",
    "    destination = path[destination]\n",
    "way.pop()\n",
    "way = way[::-1]"
   ]
  },
  {
   "cell_type": "code",
   "execution_count": 127,
   "metadata": {},
   "outputs": [
    {
     "name": "stdout",
     "output_type": "stream",
     "text": [
      "Dijkstra Algorithm\n",
      "Execution Time: 0.009885 Seconds\n",
      ".-.-.-.-.-.-.-.-.-.-.-.-.-.-.-.-.-.-.-.-.-.-.-.-\n",
      "Flight #1:\n",
      "From: Tehran-Imam Khomeini International Airport, Iran\n",
      "To: Istanbul-Atatürk International Airport, Turkey\n",
      "Duration: 2040.98 km\n",
      "Time: 3.04 h\n",
      "Price: 990.49 $\n",
      "----------------------------\n",
      "Flight #2:\n",
      "From: Istanbul-Atatürk International Airport, Turkey\n",
      "To: New York-John F Kennedy International Airport, United States\n",
      "Duration: 8051.74 km\n",
      "Time: 10.5 h\n",
      "Price: 3995.87 $\n",
      "----------------------------\n",
      "Flight #3:\n",
      "From: New York-John F Kennedy International Airport, United States\n",
      "To: Raleigh-durham-Raleigh Durham International Airport, United States\n",
      "Duration: 686.5 km\n",
      "Time: 1.35 h\n",
      "Price: 313.25 $\n",
      "----------------------------\n",
      "Total Price: 5299.61 $\n",
      "Total Duration: 10779.23 km\n",
      "Total Time: 14.89 h\n"
     ]
    }
   ],
   "source": [
    "\n",
    "    \n",
    "print(\"Dijkstra Algorithm\")\n",
    "print(f\"Execution Time: {round(total_time, 6)} Seconds\")\n",
    "print(\".-.-.-.-.-.-.-.-.-.-.-.-.-.-.-.-.-.-.-.-.-.-.-.-\")\n",
    "if len(way):\n",
    "    for index, flight in enumerate(way):\n",
    "        print(f\"Flight #{index+1}:\")\n",
    "        print(f\"From: {airports_information[flight.source_airport].city}-{airports_index_to_name[flight.source_airport]}, {airports_information[flight.source_airport].country}\")\n",
    "        print(f\"To: {airports_information[flight.destination_airport].city}-{airports_index_to_name[flight.destination_airport]}, {airports_information[flight.destination_airport].country}\")\n",
    "        print(f\"Duration: {round(flight.distance, r)} km\")\n",
    "        print(f\"Time: {round(flight.flytime, r)} h\")\n",
    "        print(f\"Price: {round(flight.price, r)} $\")\n",
    "        print(\"----------------------------\")\n",
    "        total_distance += flight.distance\n",
    "        total_flytime += flight.flytime\n",
    "        total_price += flight.price\n",
    "        \n",
    "    print(f\"Total Price: {round(total_price, r)} $\")\n",
    "    print(f\"Total Duration: {round(total_distance, r)} km\")\n",
    "    print(f\"Total Time: {round(total_flytime, r)} h\")\n",
    "else:\n",
    "    print(\"Way Not Found!\")"
   ]
  },
  {
   "cell_type": "code",
   "execution_count": 128,
   "metadata": {},
   "outputs": [],
   "source": [
    "f = open(\"1-UIAI4021-PR1-Q1.txt\", \"w\")\n",
    "f.write(\"Dijkstra Algorithm\\n\")\n",
    "f.write(f\"Execution Time: {round(total_time, 6)} Seconds\\n\")\n",
    "f.write(\".-.-.-.-.-.-.-.-.-.-.-.-.-.-.-.-.-.-.-.-.-.-.-.-\\n\")\n",
    "if len(way):\n",
    "    for index, flight in enumerate(way):\n",
    "        f.write(f\"Flight #{index+1}:\\n\")\n",
    "        f.write(f\"From: {airports_information[flight.source_airport].city}-{airports_index_to_name[flight.source_airport]}, {airports_information[flight.source_airport].country}\\n\")\n",
    "        f.write(f\"To: {airports_information[flight.destination_airport].city}-{airports_index_to_name[flight.destination_airport]}, {airports_information[flight.destination_airport].country}\\n\")\n",
    "        f.write(f\"Duration: {round(flight.distance, r)} km\\n\")\n",
    "        f.write(f\"Time: {round(flight.flytime, r)} h\\n\")\n",
    "        f.write(f\"Price: {round(flight.price, r)} $\\n\")\n",
    "        f.write(\"----------------------------\\n\")\n",
    "        \n",
    "    f.write(f\"Total Price: {round(total_price, r)} $\\n\")\n",
    "    f.write(f\"Total Duration: {round(total_distance, r)} km\\n\")\n",
    "    f.write(f\"Total Time: {round(total_flytime, r)} h\\n\")\n",
    "else:\n",
    "    f.write(\"Way Not Found!\\n\")\n",
    "f.close()"
   ]
  }
 ],
 "metadata": {
  "kernelspec": {
   "display_name": "Python 3 (ipykernel)",
   "language": "python",
   "name": "python3"
  },
  "language_info": {
   "codemirror_mode": {
    "name": "ipython",
    "version": 3
   },
   "file_extension": ".py",
   "mimetype": "text/x-python",
   "name": "python",
   "nbconvert_exporter": "python",
   "pygments_lexer": "ipython3",
   "version": "3.11.4"
  }
 },
 "nbformat": 4,
 "nbformat_minor": 4
}
