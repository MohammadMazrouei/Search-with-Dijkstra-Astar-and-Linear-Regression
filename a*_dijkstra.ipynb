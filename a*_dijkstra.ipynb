{
 "cells": [
  {
   "cell_type": "markdown",
   "metadata": {
    "jp-MarkdownHeadingCollapsed": true
   },
   "source": [
    "# A* algorithm"
   ]
  },
  {
   "cell_type": "code",
   "execution_count": 2,
   "metadata": {},
   "outputs": [],
   "source": [
    "# Import necessary libraries\n",
    "import numpy as np\n",
    "import pandas as pd\n",
    "from heapq import heappush, heappop\n",
    "import sys"
   ]
  },
  {
   "cell_type": "code",
   "execution_count": 3,
   "metadata": {},
   "outputs": [],
   "source": [
    "# Read data from the CSV file into a Pandas DataFrame\n",
    "df = pd.read_csv(\"~/Downloads/Flight_Data.csv\")"
   ]
  },
  {
   "cell_type": "code",
   "execution_count": 4,
   "metadata": {},
   "outputs": [],
   "source": [
    "# Create a dictionary to store airport locatoins\n",
    "Airport_loc = {}\n",
    "\n",
    "# Iterate through the DataFrame to populate the Airport_loc dictionary\n",
    "for ind in df.index:\n",
    "    # For each airport, store its latitude, longitude, and altitude in a list\n",
    "    Airport_loc[df['SourceAirport'][ind]] = [\n",
    "        df['SourceAirport_Latitude'][ind],\n",
    "        df['SourceAirport_Longitude'][ind],\n",
    "        df['SourceAirport_Altitude'][ind]\n",
    "    ]\n",
    "    Airport_loc[df['DestinationAirport'][ind]] = [\n",
    "        df['DestinationAirport_Latitude'][ind],\n",
    "        df['DestinationAirport_Longitude'][ind],\n",
    "        df['DestinationAirport'][ind]\n",
    "    ]"
   ]
  },
  {
   "cell_type": "code",
   "execution_count": 5,
   "metadata": {},
   "outputs": [],
   "source": [
    "# Create a dictionary to represent a flight graph\n",
    "graph = {}\n",
    "\n",
    "# Populate the flight graph using data from the DataFrame\n",
    "for ind in df.index:\n",
    "    if df['SourceAirport'][ind] not in graph.keys():\n",
    "        # If the source airport is not in the graph, create an empty list for it\n",
    "        graph[df['SourceAirport'][ind]] = []\n",
    "\n",
    "    # Append destination airport and flight details to the source airport's list\n",
    "    graph[df['SourceAirport'][ind]].append(\n",
    "        [\n",
    "            df['DestinationAirport'][ind],\n",
    "            [df['Distance'][ind], df['FlyTime'][ind], df['Price'][ind]]\n",
    "        ]\n",
    "    )"
   ]
  },
  {
   "cell_type": "code",
   "execution_count": 6,
   "metadata": {},
   "outputs": [],
   "source": [
    "input_string = input()\n",
    "\n",
    "# Split the input string into two parts using the hyphen as the delimiter\n",
    "start_airport, goal_airport = input_string.split(\" - \")"
   ]
  },
  {
   "cell_type": "code",
   "execution_count": 7,
   "metadata": {},
   "outputs": [],
   "source": [
    "def geuristic(flight_detail):\n",
    "    return 1*flight_detail[0] + 1*flight_detail[1] + 2*flight_detail[2]\n",
    "\n",
    "def heuristic(cur_node, goal):\n",
    "    # Euclidean\n",
    "    x = abs (cur_node[0] - goal[0])\n",
    "    y = abs (cur_node[1] - goal[1])\n",
    "    #z = abs (cur_node[2] - goal[2])\n",
    "    return ((x*x) + (y*y)) ** 0.5\n",
    "\n",
    "openList = []\n",
    "closedList = {}\n",
    "details = {}\n",
    "\n",
    "# Add values of start airport to the openList and\n",
    "# set values of g, h, f and parent for start airport in this order\n",
    "details[start_airport] = (0, 1, 1, -1)\n",
    "heappush (openList, (0, start_airport))"
   ]
  },
  {
   "cell_type": "code",
   "execution_count": 10,
   "metadata": {},
   "outputs": [
    {
     "name": "stdout",
     "output_type": "stream",
     "text": [
      "Found The Destination!!\n",
      "\n",
      "41551.26268425351\n",
      "(21288.46869300361, 0.0, 21288.46869300361, 'Philadelphia International Airport')\n"
     ]
    }
   ],
   "source": [
    "# Continue looping until the heap is not empty\n",
    "while openList:\n",
    "    # Get and remove the node with largest f\n",
    "    cur_node = heappop(openList)\n",
    "    closedList[cur_node[1]] = True\n",
    "\n",
    "    all_destinations = {}\n",
    "    # Store the g, h and f of the all possible destination airports with minimum f\n",
    "    for destination in graph[cur_node[1]]:\n",
    "        if destination[0] not in closedList.keys():\n",
    "            # Calculating g, h and f for current destination\n",
    "            destination_g = details[cur_node[1]][0] + geuristic(destination[1])\n",
    "            destination_h = heuristic(Airport_loc[destination[0]], Airport_loc[goal_airport])\n",
    "            destination_f = destination_g + destination_h\n",
    "\n",
    "            # If the current destination was never added before or f is larger than last flight replace this instead\n",
    "            if destination[0] not in all_destinations.keys() or all_destinations[destination[0]][2] < destination_f:\n",
    "                all_destinations[destination[0]] = (destination_g, destination_h, destination_f, cur_node[1])\n",
    "    \n",
    "    found_destination = False\n",
    "    for destination in all_destinations.keys():\n",
    "        if destination == goal_airport:\n",
    "            print(\"Found The Destination!!\\n\")\n",
    "            print(details[cur_node[1]][0] + all_destinations[destination][0])\n",
    "            details[goal_airport] = all_destinations[destination]\n",
    "            print(details[goal_airport])\n",
    "            found_destination = True\n",
    "            break\n",
    "\n",
    "        if destination not in details.keys() or details[destination][2] > all_destinations[destination][2]:\n",
    "            heappush (openList, (all_destinations[destination][2], destination))\n",
    "            details[destination] = all_destinations[destination]\n",
    "    \n",
    "    if found_destination:\n",
    "        break"
   ]
  },
  {
   "cell_type": "markdown",
   "metadata": {},
   "source": [
    "## Dijkstra"
   ]
  },
  {
   "cell_type": "code",
   "execution_count": 9,
   "metadata": {},
   "outputs": [],
   "source": [
    "# here goes the code for Dijkstra algorithm\n",
    "# add extra explanations in markdown"
   ]
  }
 ],
 "metadata": {
  "kernelspec": {
   "display_name": "Python 3 (ipykernel)",
   "language": "python",
   "name": "python3"
  },
  "language_info": {
   "codemirror_mode": {
    "name": "ipython",
    "version": 3
   },
   "file_extension": ".py",
   "mimetype": "text/x-python",
   "name": "python",
   "nbconvert_exporter": "python",
   "pygments_lexer": "ipython3",
   "version": "3.11.4"
  }
 },
 "nbformat": 4,
 "nbformat_minor": 4
}
