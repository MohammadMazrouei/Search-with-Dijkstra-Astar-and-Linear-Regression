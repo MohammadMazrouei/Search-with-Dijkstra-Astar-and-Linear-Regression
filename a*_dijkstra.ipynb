{
 "cells": [
  {
   "cell_type": "markdown",
   "metadata": {},
   "source": [
    "# A* algorithm"
   ]
  },
  {
   "cell_type": "code",
   "execution_count": 177,
   "metadata": {},
   "outputs": [],
   "source": [
    "# Import necessary libraries\n",
    "import numpy as np\n",
    "import pandas as pd\n",
    "from heapq import heappush, heappop\n",
    "import time\n",
    "import math"
   ]
  },
  {
   "cell_type": "code",
   "execution_count": 178,
   "metadata": {},
   "outputs": [],
   "source": [
    "# Read data from the CSV file into a Pandas DataFrame\n",
    "df = pd.read_csv(\"~/Downloads/Dataset.csv\")"
   ]
  },
  {
   "cell_type": "code",
   "execution_count": 179,
   "metadata": {},
   "outputs": [],
   "source": [
    "# Create a dictionary to store airport locatoins\n",
    "Airport_loc = {}\n",
    "\n",
    "# Iterate through the DataFrame to populate the Airport_loc dictionary\n",
    "for ind in df.index:\n",
    "    # For each airport, store its latitude, longitude, and altitude in a list\n",
    "    Airport_loc[df['SourceAirport'][ind]] = [\n",
    "        df['SourceAirport_Latitude'][ind],\n",
    "        df['SourceAirport_Longitude'][ind],\n",
    "        df['SourceAirport_Altitude'][ind]\n",
    "    ]\n",
    "    Airport_loc[df['DestinationAirport'][ind]] = [\n",
    "        df['DestinationAirport_Latitude'][ind],\n",
    "        df['DestinationAirport_Longitude'][ind],\n",
    "        df['DestinationAirport'][ind]\n",
    "    ]"
   ]
  },
  {
   "cell_type": "code",
   "execution_count": 180,
   "metadata": {},
   "outputs": [],
   "source": [
    "# Create a dictionary to represent a flight graph\n",
    "graph = {}\n",
    "\n",
    "# Populate the flight graph using data from the DataFrame\n",
    "for ind in df.index:\n",
    "    if df['SourceAirport'][ind] not in graph.keys():\n",
    "        # If the source airport is not in the graph, create an empty list for it\n",
    "        graph[df['SourceAirport'][ind]] = []\n",
    "\n",
    "    # Append destination airport and flight details to the source airport's list\n",
    "    graph[df['SourceAirport'][ind]].append(\n",
    "        [\n",
    "            df['DestinationAirport'][ind],\n",
    "            [df['Distance'][ind], df['FlyTime'][ind], df['Price'][ind]]\n",
    "        ]\n",
    "    )"
   ]
  },
  {
   "cell_type": "code",
   "execution_count": 183,
   "metadata": {},
   "outputs": [
    {
     "name": "stdin",
     "output_type": "stream",
     "text": [
      " Imam Khomeini International Airport - Raleigh Durham International Airport\n"
     ]
    }
   ],
   "source": [
    "input_string = input()\n",
    "\n",
    "# Split the input string into two parts using the hyphen as the delimiter\n",
    "start_airport, goal_airport = input_string.split(\" - \")"
   ]
  },
  {
   "cell_type": "code",
   "execution_count": 184,
   "metadata": {},
   "outputs": [],
   "source": [
    "start_time = time.time()"
   ]
  },
  {
   "cell_type": "code",
   "execution_count": 185,
   "metadata": {},
   "outputs": [],
   "source": [
    "def geuristic(flight_detail):\n",
    "    return 1*flight_detail[0] + 0*flight_detail[1] + 0*flight_detail[2]\n",
    "\n",
    "def heuristic(cur_node, goal):\n",
    "    # Euclidean\n",
    "    x = abs (cur_node[0] - goal[0])\n",
    "    y = abs (cur_node[1] - goal[1])\n",
    "    #z = abs (cur_node[2] - goal[2])\n",
    "    return ((x*x) + (y*y)) ** 0.5\n",
    "\n",
    "openList = []\n",
    "closedList = {}\n",
    "details = {}\n",
    "\n",
    "# Add values of start airport to the openList and\n",
    "# set values of g, h, f and parent for start airport in this order\n",
    "details[start_airport] = (0, 1, 1, -1)\n",
    "heappush (openList, (0, start_airport))"
   ]
  },
  {
   "cell_type": "code",
   "execution_count": 186,
   "metadata": {},
   "outputs": [
    {
     "ename": "KeyError",
     "evalue": "'Filippos Airport'",
     "output_type": "error",
     "traceback": [
      "\u001b[0;31m---------------------------------------------------------------------------\u001b[0m",
      "\u001b[0;31mKeyError\u001b[0m                                  Traceback (most recent call last)",
      "Cell \u001b[0;32mIn[186], line 10\u001b[0m\n\u001b[1;32m      8\u001b[0m found_destination \u001b[38;5;241m=\u001b[39m \u001b[38;5;28;01mFalse\u001b[39;00m\n\u001b[1;32m      9\u001b[0m \u001b[38;5;66;03m# Store the g, h and f of the all possible destination airports with minimum f\u001b[39;00m\n\u001b[0;32m---> 10\u001b[0m \u001b[38;5;28;01mfor\u001b[39;00m destination \u001b[38;5;129;01min\u001b[39;00m \u001b[43mgraph\u001b[49m\u001b[43m[\u001b[49m\u001b[43mcur_node\u001b[49m\u001b[43m[\u001b[49m\u001b[38;5;241;43m1\u001b[39;49m\u001b[43m]\u001b[49m\u001b[43m]\u001b[49m:\n\u001b[1;32m     11\u001b[0m     \u001b[38;5;28;01mif\u001b[39;00m destination[\u001b[38;5;241m0\u001b[39m] \u001b[38;5;129;01mnot\u001b[39;00m \u001b[38;5;129;01min\u001b[39;00m closedList\u001b[38;5;241m.\u001b[39mkeys():\n\u001b[1;32m     12\u001b[0m         \u001b[38;5;66;03m# Calculating g, h and f for current destination\u001b[39;00m\n\u001b[1;32m     13\u001b[0m         destination_g \u001b[38;5;241m=\u001b[39m details[cur_node[\u001b[38;5;241m1\u001b[39m]][\u001b[38;5;241m0\u001b[39m] \u001b[38;5;241m+\u001b[39m geuristic(destination[\u001b[38;5;241m1\u001b[39m])\n",
      "\u001b[0;31mKeyError\u001b[0m: 'Filippos Airport'"
     ]
    }
   ],
   "source": [
    "# Continue looping until the heap is not empty\n",
    "while openList:\n",
    "    # Get and remove the node with largest f\n",
    "    cur_node = heappop(openList)\n",
    "    closedList[cur_node[1]] = True\n",
    "\n",
    "    all_destinations = {}\n",
    "    found_destination = False\n",
    "    # Store the g, h and f of the all possible destination airports with minimum f\n",
    "    for destination in graph[cur_node[1]]:\n",
    "        if destination[0] not in closedList.keys():\n",
    "            # Calculating g, h and f for current destination\n",
    "            destination_g = details[cur_node[1]][0] + geuristic(destination[1])\n",
    "            destination_h = heuristic(Airport_loc[destination[0]], Airport_loc[goal_airport])\n",
    "            destination_f = destination_g + destination_h\n",
    "\n",
    "            # If the current destination was never added before or f is larger than last flight replace this instead\n",
    "            if destination[0] not in all_destinations.keys() or all_destinations[destination[0]][2] < destination_f:\n",
    "                all_destinations[destination[0]] = (destination_g, destination_h, destination_f, cur_node[1])\n",
    "    \n",
    "    for destination in all_destinations.keys():\n",
    "        if destination == goal_airport:\n",
    "            print(\"Found The Destination!!\\n\")\n",
    "            #print(details[cur_node[1]][0] + all_destinations[destination][0])\n",
    "            details[goal_airport] = all_destinations[destination]\n",
    "            #print(details[goal_airport])\n",
    "            found_destination = True\n",
    "            break\n",
    "\n",
    "        if destination not in details.keys() or details[destination][2] > all_destinations[destination][2]:\n",
    "            heappush (openList, (all_destinations[destination][2], destination))\n",
    "            details[destination] = all_destinations[destination]\n",
    "    \n",
    "    if found_destination:\n",
    "        break\n",
    "\n",
    "path_stack = []\n",
    "cur_node = goal_airport\n",
    "while cur_node != -1:\n",
    "    path_stack.append (cur_node)\n",
    "    cur_node = details[cur_node][3]\n",
    "\n",
    "end_time = time.time()\n",
    "\n",
    "print(\"A* Algorithm\")\n",
    "print(\"Execution Time: \", end_time-start_time, \"seconds\")\n",
    "while len(path_stack):\n",
    "    print(path_stack.pop())\n",
    "\n",
    "if not found_destination:\n",
    "    print(\"THERE IS NO PATH BETWEEN LAST AIRPORT AND GOAL AIRPORT!\")"
   ]
  },
  {
   "cell_type": "markdown",
   "metadata": {},
   "source": [
    "## Dijkstra"
   ]
  },
  {
   "cell_type": "code",
   "execution_count": 187,
   "metadata": {},
   "outputs": [],
   "source": [
    "class airport_information:\n",
    "    def __init__(self, city, country, latitude, longitude, altitude):\n",
    "        self.city = city\n",
    "        self.country = country\n",
    "        self.latitude = latitude\n",
    "        self.longitude = longitude\n",
    "        self.altitude = altitude"
   ]
  },
  {
   "cell_type": "code",
   "execution_count": 196,
   "metadata": {},
   "outputs": [
    {
     "name": "stdout",
     "output_type": "stream",
     "text": [
      "3113\n"
     ]
    }
   ],
   "source": [
    "airports = set()\n",
    "airports_name_to_index = dict()\n",
    "airports_index_to_name = np.empty(4000, dtype=object)\n",
    "airports_information = np.empty(4000, dtype=airport_information)\n",
    "\n",
    "ind = 0\n",
    "for i in df.index:\n",
    "    airport = df[\"SourceAirport\"][i]\n",
    "    if airport not in airports:\n",
    "        airports.add(airport)\n",
    "        if df[\"SourceAirport_Country\"][i] == \"Dubai\":\n",
    "            print(airport)\n",
    "        airports_name_to_index[airport] = ind\n",
    "        airports_index_to_name[ind] = airport\n",
    "        inf = airport_information(df[\"SourceAirport_City\"][i], df[\"SourceAirport_Country\"][i],\n",
    "                                   df[\"SourceAirport_Latitude\"][i], df[\"SourceAirport_Longitude\"][i],\n",
    "                                   df[\"SourceAirport_Altitude\"][i])\n",
    "        airports_information[ind] = inf\n",
    "        ind += 1\n",
    "        \n",
    "    airport = df[\"DestinationAirport\"][i]\n",
    "    if airport not in airports:\n",
    "        airports.add(airport)\n",
    "        airports_name_to_index[airport] = ind\n",
    "        airports_index_to_name[ind] = airport\n",
    "        inf = airport_information(df[\"DestinationAirport_City\"][i], df[\"DestinationAirport_Country\"][i],\n",
    "                                   df[\"DestinationAirport_Latitude\"][i], df[\"DestinationAirport_Longitude\"][i],\n",
    "                                   df[\"DestinationAirport_Altitude\"][i])\n",
    "        airports_information[ind] = inf\n",
    "        ind += 1\n",
    "\n",
    "number_of_airports = len(airports)\n",
    "print(number_of_airports)"
   ]
  },
  {
   "cell_type": "code",
   "execution_count": 189,
   "metadata": {},
   "outputs": [],
   "source": [
    "def calc(distance, flytime, price):\n",
    "    result = (1 * distance) + (80 * flytime) + (1 * price)\n",
    "    return result\n",
    "    \n",
    "class flight_information:\n",
    "    def __init__(self, source_airport, destination_airport, distance, flytime, price):\n",
    "        self.source_airport = source_airport\n",
    "        self.destination_airport = destination_airport\n",
    "        self.distance = distance \n",
    "        self.flytime = flytime\n",
    "        self.price = price\n",
    "        self.cost = calc(distance, flytime, price)\n",
    "        \n",
    "class flights_list:\n",
    "    def __init__(self):\n",
    "        self.flights = []\n",
    "    def add_flight(self, flight):\n",
    "        self.flights.append(flight)"
   ]
  },
  {
   "cell_type": "code",
   "execution_count": 190,
   "metadata": {},
   "outputs": [],
   "source": [
    "flights_information = np.empty(4000, dtype=flights_list)\n",
    "for i in range(number_of_airports):\n",
    "    flights_information[i] = flights_list()\n",
    "\n",
    "for i in df.index:\n",
    "    index_source_airport = airports_name_to_index[df[\"SourceAirport\"][i]]\n",
    "    index_destination_airport = airports_name_to_index[df[\"DestinationAirport\"][i]]\n",
    "    distance = df[\"Distance\"][i]\n",
    "    flytime = df[\"FlyTime\"][i]\n",
    "    price = df[\"Price\"][i]\n",
    "    if distance < 0 or flytime < 0 or price < 0:\n",
    "        continue\n",
    "    inf = flight_information(index_source_airport, index_destination_airport, distance, flytime, price)\n",
    "    flights_information[index_source_airport].add_flight(inf)"
   ]
  },
  {
   "cell_type": "code",
   "execution_count": 191,
   "metadata": {},
   "outputs": [
    {
     "name": "stdout",
     "output_type": "stream",
     "text": [
      "223 941\n"
     ]
    }
   ],
   "source": [
    "# inp = input()\n",
    "inp = \"Imam Khomeini International Airport - Raleigh Durham International Airport\"\n",
    "source_airport, destination_airport = inp.split('-')\n",
    "source_airport = source_airport.strip()\n",
    "destination_airport = destination_airport.strip()\n",
    "index_source_airport = airports_name_to_index[source_airport]\n",
    "index_destination_airport = airports_name_to_index[destination_airport]\n",
    "\n",
    "print(index_source_airport, index_destination_airport)"
   ]
  },
  {
   "cell_type": "code",
   "execution_count": 193,
   "metadata": {},
   "outputs": [
    {
     "name": "stdout",
     "output_type": "stream",
     "text": [
      "10328.61636004468\n",
      "0.035883\n"
     ]
    }
   ],
   "source": [
    "start_time = time.time()\n",
    "\n",
    "costs = np.empty(4000, dtype=float)\n",
    "costs.fill(math.inf)\n",
    "path = np.empty(4000, dtype=int)\n",
    "path.fill(-1)\n",
    "cost_detail = np.empty(4000, dtype=flight_information)\n",
    "cost_inf = flight_information(-1, -1, -1, -1, -1)\n",
    "cost_detail.fill(cost_inf)\n",
    "\n",
    "open_list = []\n",
    "heappush(open_list, (0, index_source_airport))\n",
    "costs[index_source_airport] = 0\n",
    "\n",
    "while open_list:\n",
    "    cost, airport = heappop(open_list)\n",
    "    if cost != costs[airport]: \n",
    "        continue\n",
    "    for flight in flights_information[airport].flights:\n",
    "        if flight.cost + cost < costs[flight.destination_airport]:\n",
    "            costs[flight.destination_airport] = flight.cost + cost\n",
    "            heappush(open_list, (costs[flight.destination_airport], flight.destination_airport))\n",
    "            path[flight.destination_airport] = airport\n",
    "            cost_detail[flight.destination_airport] = flight\n",
    "\n",
    "total_time = round(time.time() - start_time, 6)\n",
    "print(costs[index_destination_airport])\n",
    "print(total_time)"
   ]
  },
  {
   "cell_type": "code",
   "execution_count": 194,
   "metadata": {},
   "outputs": [
    {
     "name": "stdout",
     "output_type": "stream",
     "text": [
      "Dijkstra Algorithm\n",
      "Execution Time: 0.035883 Seconds\n",
      ".-.-.-.-.-.-.-.-.-.-.-.-.-.-.-.-.-.-.-.-.-.-.-.-\n",
      "Flight #1:\n",
      "From: Tehran-Imam Khomeini International Airport, Iran\n",
      "To: Yerevan-Zvartnots International Airport, Armenia\n",
      "Duration: 792.85 km\n",
      "Time: 1.48 h\n",
      "Price: 366.42 $\n",
      "----------------------------\n",
      "Flight #2:\n",
      "From: Yerevan-Zvartnots International Airport, Armenia\n",
      "To: Prague-Václav Havel Airport Prague, Czech Republic\n",
      "Duration: 2587.13 km\n",
      "Time: 3.71 h\n",
      "Price: 1263.56 $\n",
      "----------------------------\n",
      "Flight #3:\n",
      "From: Prague-Václav Havel Airport Prague, Czech Republic\n",
      "To: Newcastle-Newcastle Airport, United Kingdom\n",
      "Duration: 1206.01 km\n",
      "Time: 2.0 h\n",
      "Price: 573.01 $\n",
      "----------------------------\n",
      "Flight #4:\n",
      "From: Newcastle-Newcastle Airport, United Kingdom\n",
      "To: Melbourne-Melbourne International Airport, Australia\n",
      "Duration: 834.64 km\n",
      "Time: 1.54 h\n",
      "Price: 387.32 $\n",
      "----------------------------\n",
      "Flight #5:\n",
      "From: Melbourne-Melbourne International Airport, Australia\n",
      "To: Charlotte-Charlotte Douglas International Airport, United States\n",
      "Duration: 791.23 km\n",
      "Time: 1.48 h\n",
      "Price: 365.62 $\n",
      "----------------------------\n",
      "Flight #6:\n",
      "From: Charlotte-Charlotte Douglas International Airport, United States\n",
      "To: Raleigh-durham-Raleigh Durham International Airport, United States\n",
      "Duration: 208.51 km\n",
      "Time: 0.76 h\n",
      "Price: 74.26 $\n",
      "----------------------------\n",
      "Total Price: 3030.19 $\n",
      "Total Duration: 6420.38 km\n",
      "Total Time: 10.98 h\n"
     ]
    }
   ],
   "source": [
    "destination = index_destination_airport\n",
    "way = []\n",
    "total_distance = 0\n",
    "total_flytime = 0\n",
    "total_price = 0\n",
    "r = 2 #round_value\n",
    "\n",
    "while destination != -1:\n",
    "    way.append(cost_detail[destination])\n",
    "    destination = path[destination]\n",
    "way.pop()\n",
    "way = way[::-1]\n",
    "    \n",
    "print(\"Dijkstra Algorithm\")\n",
    "print(f\"Execution Time: {round(total_time, 6)} Seconds\")\n",
    "print(\".-.-.-.-.-.-.-.-.-.-.-.-.-.-.-.-.-.-.-.-.-.-.-.-\")\n",
    "if len(way):\n",
    "    for index, flight in enumerate(way):\n",
    "        print(f\"Flight #{index+1}:\")\n",
    "        print(f\"From: {airports_information[flight.source_airport].city}-{airports_index_to_name[flight.source_airport]}, {airports_information[flight.source_airport].country}\")\n",
    "        print(f\"To: {airports_information[flight.destination_airport].city}-{airports_index_to_name[flight.destination_airport]}, {airports_information[flight.destination_airport].country}\")\n",
    "        print(f\"Duration: {round(flight.distance, r)} km\")\n",
    "        print(f\"Time: {round(flight.flytime, r)} h\")\n",
    "        print(f\"Price: {round(flight.price, r)} $\")\n",
    "        print(\"----------------------------\")\n",
    "        total_distance += flight.distance\n",
    "        total_flytime += flight.flytime\n",
    "        total_price += flight.price\n",
    "        \n",
    "    print(f\"Total Price: {round(total_price, r)} $\")\n",
    "    print(f\"Total Duration: {round(total_distance, r)} km\")\n",
    "    print(f\"Total Time: {round(total_flytime, r)} h\")\n",
    "else:\n",
    "    print(\"Way Not Found!\")"
   ]
  },
  {
   "cell_type": "code",
   "execution_count": null,
   "metadata": {},
   "outputs": [],
   "source": []
  }
 ],
 "metadata": {
  "kernelspec": {
   "display_name": "Python 3 (ipykernel)",
   "language": "python",
   "name": "python3"
  },
  "language_info": {
   "codemirror_mode": {
    "name": "ipython",
    "version": 3
   },
   "file_extension": ".py",
   "mimetype": "text/x-python",
   "name": "python",
   "nbconvert_exporter": "python",
   "pygments_lexer": "ipython3",
   "version": "3.11.2"
  }
 },
 "nbformat": 4,
 "nbformat_minor": 4
}
