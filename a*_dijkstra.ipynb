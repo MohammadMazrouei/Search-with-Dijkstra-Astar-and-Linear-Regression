{
 "cells": [
  {
   "cell_type": "markdown",
   "metadata": {
    "jp-MarkdownHeadingCollapsed": true
   },
   "source": [
    "# A* algorithm"
   ]
  },
  {
   "cell_type": "code",
   "execution_count": 2,
   "metadata": {},
   "outputs": [],
   "source": [
    "# Import necessary libraries\n",
    "import numpy as np\n",
    "import pandas as pd"
   ]
  },
  {
   "cell_type": "code",
   "execution_count": 7,
   "metadata": {},
   "outputs": [],
   "source": [
    "# Read data from the CSV file into a Pandas DataFrame\n",
    "df = pd.read_csv(\"~/Downloads/Flight_Data.csv\")"
   ]
  },
  {
   "cell_type": "code",
   "execution_count": 9,
   "metadata": {},
   "outputs": [],
   "source": [
    "# Create a dictionary to store airport locatoins\n",
    "Airport_loc = {}\n",
    "\n",
    "# Iterate through the DataFrame to populate the Airport_loc dictionary\n",
    "for ind in df.index:\n",
    "    # For each airport, store its latitude, longitude, and altitude in a list\n",
    "    Airport_loc[df['SourceAirport'][ind]] = [\n",
    "        df['SourceAirport_Latitude'][ind],\n",
    "        df['SourceAirport_Longitude'][ind],\n",
    "        df['SourceAirport_Altitude'][ind]\n",
    "    ]\n",
    "    Airport_loc[df['DestinationAirport'][ind]] = [\n",
    "        df['DestinationAirport_Latitude'][ind],\n",
    "        df['DestinationAirport_Longitude'][ind],\n",
    "        df['DestinationAirport'][ind]\n",
    "    ]"
   ]
  },
  {
   "cell_type": "code",
   "execution_count": 12,
   "metadata": {},
   "outputs": [],
   "source": [
    "# Create a dictionary to represent a flight graph\n",
    "graph = {}\n",
    "\n",
    "# Populate the flight graph using data from the DataFrame\n",
    "for ind in df.index:\n",
    "    if df['SourceAirport'][ind] not in graph.keys():\n",
    "        # If the source airport is not in the graph, create an empty list for it\n",
    "        graph[df['SourceAirport'][ind]] = []\n",
    "\n",
    "    # Append destination airport and flight details to the source airport's list\n",
    "    graph[df['SourceAirport'][ind]].append(\n",
    "        [\n",
    "            df['DestinationAirport'][ind],\n",
    "            [df['Distance'][ind], df['FlyTime'][ind], df['Price'][ind]]\n",
    "        ]\n",
    "    )"
   ]
  },
  {
   "cell_type": "markdown",
   "metadata": {},
   "source": [
    "## Dijkstra"
   ]
  },
  {
   "cell_type": "code",
   "execution_count": null,
   "metadata": {},
   "outputs": [],
   "source": [
    "# here goes the code for Dijkstra algorithm\n",
    "# add extra explanations in markdown"
   ]
  }
 ],
 "metadata": {
  "kernelspec": {
   "display_name": "Python 3 (ipykernel)",
   "language": "python",
   "name": "python3"
  },
  "language_info": {
   "codemirror_mode": {
    "name": "ipython",
    "version": 3
   },
   "file_extension": ".py",
   "mimetype": "text/x-python",
   "name": "python",
   "nbconvert_exporter": "python",
   "pygments_lexer": "ipython3",
   "version": "3.11.4"
  }
 },
 "nbformat": 4,
 "nbformat_minor": 4
}
